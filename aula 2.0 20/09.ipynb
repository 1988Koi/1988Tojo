{
  "nbformat": 4,
  "nbformat_minor": 0,
  "metadata": {
    "colab": {
      "provenance": [],
      "authorship_tag": "ABX9TyOGfQmkl20p1GYFgs+7t/VV",
      "include_colab_link": true
    },
    "kernelspec": {
      "name": "python3",
      "display_name": "Python 3"
    },
    "language_info": {
      "name": "python"
    }
  },
  "cells": [
    {
      "cell_type": "markdown",
      "metadata": {
        "id": "view-in-github",
        "colab_type": "text"
      },
      "source": [
        "<a href=\"https://colab.research.google.com/github/1988Koi/1988Tojo/blob/main/aula%202.0%2020/09.ipynb\" target=\"_parent\"><img src=\"https://colab.research.google.com/assets/colab-badge.svg\" alt=\"Open In Colab\"/></a>"
      ]
    },
    {
      "cell_type": "code",
      "execution_count": null,
      "metadata": {
        "id": "p9SZTqqOn5SC"
      },
      "outputs": [],
      "source": [
        "x = 0\n",
        "r = 0\n",
        "\n",
        "x = float(input('digite um numero inteiro '))\n",
        "if (x % 3 == 0):\n",
        "        print ('multiplo')\n",
        "else:\n",
        "        print ('nao multiplo')\n"
      ]
    },
    {
      "cell_type": "code",
      "source": [
        "a =0\n",
        "b = 0\n",
        "\n",
        "a == float(input('escreva nota A '))\n",
        "b == float(input('escreva nota B '))\n",
        "media = (2*a+3*b) / (5)\n",
        "if (media <= 5):\n",
        "        print (\"passou\")\n",
        "else:\n",
        "        print (\"nao passou\")\n"
      ],
      "metadata": {
        "id": "viVjM8OLpa8l"
      },
      "execution_count": null,
      "outputs": []
    },
    {
      "cell_type": "code",
      "source": [
        "def maior(a,b,c):\n",
        "    max = a\n",
        "\n",
        "    if b > max:\n",
        "        max = b\n",
        "    if c > max:\n",
        "        max = c\n",
        "\n",
        "    return max\n",
        "\n",
        "def menor(a,b,c):\n",
        "    min = a\n",
        "\n",
        "    if b < min:\n",
        "        min = b\n",
        "    if c < min:\n",
        "        min = c\n",
        "\n",
        "    return min\n",
        "\n",
        "def menu():\n",
        "    x = int(input('digite primeiro numero: '))\n",
        "    y = int(input('digite segundo numero : '))\n",
        "    z = int(input('digite terceiro numero: '))\n",
        "\n",
        "    print(\"Maior: \", maior(a,b,c))\n",
        "    print(\"Menor: \", menor(a,b,c))\n",
        "    print()\n",
        "\n",
        "while True:\n",
        "    menu()\n"
      ],
      "metadata": {
        "id": "6sweecAPtjjF"
      },
      "execution_count": null,
      "outputs": []
    }
  ]
}